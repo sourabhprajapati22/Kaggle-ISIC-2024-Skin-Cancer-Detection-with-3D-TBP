{
 "cells": [
  {
   "cell_type": "code",
   "execution_count": 1,
   "id": "d25ff6af",
   "metadata": {
    "_cell_guid": "b1076dfc-b9ad-4769-8c92-a6c4dae69d19",
    "_uuid": "8f2839f25d086af736a60e9eeb907d3b93b6e0e5",
    "execution": {
     "iopub.execute_input": "2024-09-03T06:12:16.617113Z",
     "iopub.status.busy": "2024-09-03T06:12:16.616704Z",
     "iopub.status.idle": "2024-09-03T06:12:18.901121Z",
     "shell.execute_reply": "2024-09-03T06:12:18.900143Z"
    },
    "papermill": {
     "duration": 2.294214,
     "end_time": "2024-09-03T06:12:18.903374",
     "exception": false,
     "start_time": "2024-09-03T06:12:16.609160",
     "status": "completed"
    },
    "tags": []
   },
   "outputs": [],
   "source": [
    "import pandas as pd\n",
    "import matplotlib.pyplot as plt\n",
    "import seaborn as sns\n",
    "from PIL import Image\n",
    "import io\n",
    "import warnings\n",
    "import h5py\n",
    "warnings.filterwarnings(action='ignore')\n",
    "import numpy as np\n",
    "from sklearn.metrics import roc_auc_score"
   ]
  },
  {
   "cell_type": "code",
   "execution_count": 2,
   "id": "c91eb85a",
   "metadata": {
    "execution": {
     "iopub.execute_input": "2024-09-03T06:12:18.915843Z",
     "iopub.status.busy": "2024-09-03T06:12:18.915307Z",
     "iopub.status.idle": "2024-09-03T06:12:26.359292Z",
     "shell.execute_reply": "2024-09-03T06:12:26.358316Z"
    },
    "papermill": {
     "duration": 7.452549,
     "end_time": "2024-09-03T06:12:26.361687",
     "exception": false,
     "start_time": "2024-09-03T06:12:18.909138",
     "status": "completed"
    },
    "tags": []
   },
   "outputs": [],
   "source": [
    "train=pd.read_csv('/kaggle/input/isic-2024-challenge/train-metadata.csv')\n",
    "test=pd.read_csv('/kaggle/input/isic-2024-challenge/test-metadata.csv')"
   ]
  },
  {
   "cell_type": "code",
   "execution_count": 3,
   "id": "17869267",
   "metadata": {
    "execution": {
     "iopub.execute_input": "2024-09-03T06:12:26.373999Z",
     "iopub.status.busy": "2024-09-03T06:12:26.373699Z",
     "iopub.status.idle": "2024-09-03T06:12:26.377990Z",
     "shell.execute_reply": "2024-09-03T06:12:26.377119Z"
    },
    "papermill": {
     "duration": 0.012531,
     "end_time": "2024-09-03T06:12:26.379842",
     "exception": false,
     "start_time": "2024-09-03T06:12:26.367311",
     "status": "completed"
    },
    "tags": []
   },
   "outputs": [],
   "source": [
    "main_features=test.columns.to_list()+['target']"
   ]
  },
  {
   "cell_type": "code",
   "execution_count": 4,
   "id": "d2b83405",
   "metadata": {
    "execution": {
     "iopub.execute_input": "2024-09-03T06:12:26.391877Z",
     "iopub.status.busy": "2024-09-03T06:12:26.391132Z",
     "iopub.status.idle": "2024-09-03T06:12:26.404553Z",
     "shell.execute_reply": "2024-09-03T06:12:26.403717Z"
    },
    "papermill": {
     "duration": 0.02151,
     "end_time": "2024-09-03T06:12:26.406528",
     "exception": false,
     "start_time": "2024-09-03T06:12:26.385018",
     "status": "completed"
    },
    "tags": []
   },
   "outputs": [],
   "source": [
    "cat_col=[]\n",
    "num_col=[]\n",
    "for i in main_features:\n",
    "    try:\n",
    "        pd.to_numeric(train[i])\n",
    "        num_col.append(i)\n",
    "\n",
    "    except:\n",
    "        cat_col.append(i)"
   ]
  },
  {
   "cell_type": "code",
   "execution_count": 5,
   "id": "4081100f",
   "metadata": {
    "execution": {
     "iopub.execute_input": "2024-09-03T06:12:26.418117Z",
     "iopub.status.busy": "2024-09-03T06:12:26.417831Z",
     "iopub.status.idle": "2024-09-03T06:12:30.243789Z",
     "shell.execute_reply": "2024-09-03T06:12:30.242852Z"
    },
    "papermill": {
     "duration": 3.834306,
     "end_time": "2024-09-03T06:12:30.246094",
     "exception": false,
     "start_time": "2024-09-03T06:12:26.411788",
     "status": "completed"
    },
    "tags": []
   },
   "outputs": [],
   "source": [
    "from sklearn.model_selection import train_test_split\n",
    "# from sklearn.pipeline import Pipeline\n",
    "from imblearn.pipeline import Pipeline\n",
    "from sklearn.ensemble import IsolationForest,VotingClassifier,StackingClassifier\n",
    "from sklearn.cluster import DBSCAN,KMeans\n",
    "from sklearn.compose import make_column_selector,ColumnTransformer\n",
    "from sklearn.decomposition import PCA\n",
    "from sklearn.discriminant_analysis import LinearDiscriminantAnalysis,QuadraticDiscriminantAnalysis\n",
    "from sklearn.feature_selection import chi2,f_classif,mutual_info_classif,SelectKBest,SequentialFeatureSelector,VarianceThreshold\n",
    "from sklearn.gaussian_process import GaussianProcessClassifier\n",
    "from sklearn.preprocessing import LabelEncoder,OneHotEncoder,Normalizer,StandardScaler,QuantileTransformer,PolynomialFeatures,OrdinalEncoder,PowerTransformer\n",
    "from imblearn.under_sampling import RandomUnderSampler\n",
    "from imblearn.over_sampling import RandomOverSampler\n",
    "from catboost import CatBoostClassifier\n",
    "from lightgbm import LGBMClassifier\n",
    "from xgboost import XGBClassifier\n",
    "from sklearn.base import BaseEstimator, TransformerMixin\n",
    "from sklearn.impute import SimpleImputer\n",
    "from sklearn.pipeline import FeatureUnion\n",
    "from sklearn.metrics import confusion_matrix"
   ]
  },
  {
   "cell_type": "code",
   "execution_count": 6,
   "id": "504633e0",
   "metadata": {
    "execution": {
     "iopub.execute_input": "2024-09-03T06:12:30.258386Z",
     "iopub.status.busy": "2024-09-03T06:12:30.257764Z",
     "iopub.status.idle": "2024-09-03T06:12:30.983934Z",
     "shell.execute_reply": "2024-09-03T06:12:30.982897Z"
    },
    "papermill": {
     "duration": 0.734766,
     "end_time": "2024-09-03T06:12:30.986328",
     "exception": false,
     "start_time": "2024-09-03T06:12:30.251562",
     "status": "completed"
    },
    "tags": []
   },
   "outputs": [],
   "source": [
    "X,y=train.drop('target',axis=1),train.target\n",
    "X_train,X_valid,y_train,y_valid=train_test_split(X,y,train_size=0.8,random_state=42,stratify=y)"
   ]
  },
  {
   "cell_type": "code",
   "execution_count": 7,
   "id": "8d71a220",
   "metadata": {
    "execution": {
     "iopub.execute_input": "2024-09-03T06:12:30.998895Z",
     "iopub.status.busy": "2024-09-03T06:12:30.998264Z",
     "iopub.status.idle": "2024-09-03T06:12:31.004301Z",
     "shell.execute_reply": "2024-09-03T06:12:31.003512Z"
    },
    "papermill": {
     "duration": 0.014365,
     "end_time": "2024-09-03T06:12:31.006274",
     "exception": false,
     "start_time": "2024-09-03T06:12:30.991909",
     "status": "completed"
    },
    "tags": []
   },
   "outputs": [],
   "source": [
    "class custom_col_drop(BaseEstimator, TransformerMixin):\n",
    "    def __init__(self, drop_list=None, select_list=None):\n",
    "        self.drop_list = drop_list\n",
    "        self.select_list = select_list\n",
    "        \n",
    "    def fit(self, X, y=None):\n",
    "        return self\n",
    "        \n",
    "    def transform(self, X):\n",
    "        if self.select_list:\n",
    "            X = X[self.select_list]\n",
    "        if self.drop_list:\n",
    "            X = X.drop(self.drop_list, axis=1)\n",
    "        return X"
   ]
  },
  {
   "cell_type": "code",
   "execution_count": 8,
   "id": "bec4f375",
   "metadata": {
    "execution": {
     "iopub.execute_input": "2024-09-03T06:12:31.017925Z",
     "iopub.status.busy": "2024-09-03T06:12:31.017275Z",
     "iopub.status.idle": "2024-09-03T06:12:31.021153Z",
     "shell.execute_reply": "2024-09-03T06:12:31.020338Z"
    },
    "papermill": {
     "duration": 0.011673,
     "end_time": "2024-09-03T06:12:31.023094",
     "exception": false,
     "start_time": "2024-09-03T06:12:31.011421",
     "status": "completed"
    },
    "tags": []
   },
   "outputs": [],
   "source": [
    "features=test.columns.to_list()"
   ]
  },
  {
   "cell_type": "code",
   "execution_count": 9,
   "id": "d8c775a7",
   "metadata": {
    "execution": {
     "iopub.execute_input": "2024-09-03T06:12:31.034899Z",
     "iopub.status.busy": "2024-09-03T06:12:31.034346Z",
     "iopub.status.idle": "2024-09-03T06:12:31.042356Z",
     "shell.execute_reply": "2024-09-03T06:12:31.041615Z"
    },
    "papermill": {
     "duration": 0.015867,
     "end_time": "2024-09-03T06:12:31.044193",
     "exception": false,
     "start_time": "2024-09-03T06:12:31.028326",
     "status": "completed"
    },
    "tags": []
   },
   "outputs": [],
   "source": [
    "seed=42\n",
    "lgb_params = {\n",
    "    'objective':        'binary',\n",
    "    'verbosity':        -1,\n",
    "    'n_iter':           200,\n",
    "    'boosting_type':    'gbdt',\n",
    "    'random_state':     seed,\n",
    "    'lambda_l1':        0.08758718919397321, \n",
    "    'lambda_l2':        0.0039689175176025465, \n",
    "    'learning_rate':    0.03231007103195577, \n",
    "    'max_depth':        4, \n",
    "    'num_leaves':       103, \n",
    "    'colsample_bytree': 0.8329551585827726, \n",
    "    'colsample_bynode': 0.4025961355653304, \n",
    "    'bagging_fraction': 0.7738954452473223, \n",
    "    'bagging_freq':     4, \n",
    "    'min_data_in_leaf': 85, \n",
    "    'scale_pos_weight': 2.7984184778875543,\n",
    "}\n",
    "\n",
    "cb_params = {\n",
    "    'loss_function':     'Logloss',\n",
    "    'iterations':        250,\n",
    "    'verbose':           False,\n",
    "    'random_state':      seed,\n",
    "    'max_depth':         7, \n",
    "    'learning_rate':     0.06936242010150652, \n",
    "    'scale_pos_weight':  2.6149345838209532, \n",
    "    'l2_leaf_reg':       6.216113851699493, \n",
    "#     'subsample':         0.6249261779711819, \n",
    "    'min_data_in_leaf':  24,\n",
    "#     'cat_features':      cat_cols,\n",
    "    'task_type'    :     'GPU'\n",
    "}\n",
    "xgb_params = {\n",
    "#     'enable_categorical': True,\n",
    "    'tree_method':        'hist',\n",
    "    'random_state':       seed,\n",
    "    'learning_rate':      0.08501257473292347, \n",
    "    'lambda':             8.879624125465703, \n",
    "    'alpha':              0.6779926606782505, \n",
    "    'max_depth':          6, \n",
    "    'subsample':          0.6012681388711075, \n",
    "    'colsample_bytree':   0.8437772277074493, \n",
    "    'colsample_bylevel':  0.5476090898823716, \n",
    "    'colsample_bynode':   0.9928601203635129, \n",
    "    'scale_pos_weight':   3.29440313334688,\n",
    "}"
   ]
  },
  {
   "cell_type": "code",
   "execution_count": 10,
   "id": "fcd45854",
   "metadata": {
    "execution": {
     "iopub.execute_input": "2024-09-03T06:12:31.055933Z",
     "iopub.status.busy": "2024-09-03T06:12:31.055396Z",
     "iopub.status.idle": "2024-09-03T06:12:31.061203Z",
     "shell.execute_reply": "2024-09-03T06:12:31.060398Z"
    },
    "papermill": {
     "duration": 0.013639,
     "end_time": "2024-09-03T06:12:31.063012",
     "exception": false,
     "start_time": "2024-09-03T06:12:31.049373",
     "status": "completed"
    },
    "tags": []
   },
   "outputs": [],
   "source": [
    "def custom_metric(estimator, X, y_true):\n",
    "    y_hat = estimator.predict_proba(X)[:, 1]\n",
    "    min_tpr = 0.80\n",
    "    max_fpr = abs(1 - min_tpr)\n",
    "    \n",
    "    v_gt = abs(y_true - 1)\n",
    "    v_pred = np.array([1.0 - x for x in y_hat])\n",
    "    \n",
    "    partial_auc_scaled = roc_auc_score(v_gt, v_pred, max_fpr=max_fpr)\n",
    "    partial_auc = 0.5 * max_fpr**2 + (max_fpr - 0.5 * max_fpr**2) / (1.0 - 0.5) * (partial_auc_scaled - 0.5)\n",
    "    \n",
    "    return partial_auc"
   ]
  },
  {
   "cell_type": "code",
   "execution_count": 11,
   "id": "451b23b2",
   "metadata": {
    "execution": {
     "iopub.execute_input": "2024-09-03T06:12:31.074559Z",
     "iopub.status.busy": "2024-09-03T06:12:31.074055Z",
     "iopub.status.idle": "2024-09-03T06:12:31.086261Z",
     "shell.execute_reply": "2024-09-03T06:12:31.085422Z"
    },
    "papermill": {
     "duration": 0.019938,
     "end_time": "2024-09-03T06:12:31.088160",
     "exception": false,
     "start_time": "2024-09-03T06:12:31.068222",
     "status": "completed"
    },
    "tags": []
   },
   "outputs": [],
   "source": [
    "model=Pipeline([\n",
    "    ('col_drop',custom_col_drop(drop_list=['isic_id','patient_id','attribution'],select_list=features)),\n",
    "    ('col_trans',ColumnTransformer([\n",
    "        ('numerical_col',Pipeline([\n",
    "            ('standard_scale',StandardScaler()),\n",
    "            ('impute',SimpleImputer(strategy='most_frequent')),\n",
    "        ]),\n",
    "         make_column_selector(dtype_include=['int64','float64'])),\n",
    "        ('cat_col_ord',OrdinalEncoder(),make_column_selector(dtype_include=['object'])),\n",
    "    ],remainder='drop')),\n",
    "    ('impute',SimpleImputer(strategy='most_frequent')),\n",
    "    \n",
    "    ('feature_union', FeatureUnion([\n",
    "        ('original_features', 'passthrough'),  \n",
    "        ('pca', Pipeline([\n",
    "            ('pca_transform', PCA(n_components=10,random_state=42)),\n",
    "        ])),\n",
    "        ('kmeans', Pipeline([\n",
    "            ('kmeans_transform', KMeans(n_clusters=30, random_state=42)), \n",
    "            ('kmeans_labels', 'passthrough'), \n",
    "        ])),\n",
    "    ])),\n",
    "    \n",
    "    ('sampler_1', RandomOverSampler(sampling_strategy= 0.003 , random_state=42)),\n",
    "    ('sampler_2', RandomUnderSampler(sampling_strategy=0.01, random_state=42)),  \n",
    "    ('voting',VotingClassifier([\n",
    "        ('catboost',CatBoostClassifier(**cb_params)),\n",
    "        ('lgbm',LGBMClassifier(**lgb_params)),\n",
    "        ('xgb',XGBClassifier(**xgb_params))\n",
    "        \n",
    "    ],\n",
    "    voting='soft',\n",
    "    weights=[0.47,0.40,0.28]\n",
    "    )),\n",
    "    \n",
    "    \n",
    "#     ('stacking',StackingClassifier([\n",
    "#         ('catboost',CatBoostClassifier(**cb_params)),\n",
    "#         ('lgbm',LGBMClassifier(**lgb_params)),\n",
    "#         ('xgb',XGBClassifier(**xgb_params))\n",
    "        \n",
    "#     ],\n",
    "#         stack_method='predict_proba',\n",
    "#     final_estimator=CatBoostClassifier(**cb_params),\n",
    "#     ))\n",
    "])"
   ]
  },
  {
   "cell_type": "code",
   "execution_count": 12,
   "id": "d23afdad",
   "metadata": {
    "execution": {
     "iopub.execute_input": "2024-09-03T06:12:31.099607Z",
     "iopub.status.busy": "2024-09-03T06:12:31.099135Z",
     "iopub.status.idle": "2024-09-03T06:12:31.103254Z",
     "shell.execute_reply": "2024-09-03T06:12:31.102577Z"
    },
    "papermill": {
     "duration": 0.011859,
     "end_time": "2024-09-03T06:12:31.105136",
     "exception": false,
     "start_time": "2024-09-03T06:12:31.093277",
     "status": "completed"
    },
    "tags": []
   },
   "outputs": [],
   "source": [
    "# model.fit(X_train,y_train)"
   ]
  },
  {
   "cell_type": "code",
   "execution_count": 13,
   "id": "ea5c541b",
   "metadata": {
    "execution": {
     "iopub.execute_input": "2024-09-03T06:12:31.116804Z",
     "iopub.status.busy": "2024-09-03T06:12:31.116222Z",
     "iopub.status.idle": "2024-09-03T06:14:10.258979Z",
     "shell.execute_reply": "2024-09-03T06:14:10.257981Z"
    },
    "papermill": {
     "duration": 99.157454,
     "end_time": "2024-09-03T06:14:10.267817",
     "exception": false,
     "start_time": "2024-09-03T06:12:31.110363",
     "status": "completed"
    },
    "tags": []
   },
   "outputs": [
    {
     "data": {
      "text/html": [
       "<style>#sk-container-id-1 {color: black;background-color: white;}#sk-container-id-1 pre{padding: 0;}#sk-container-id-1 div.sk-toggleable {background-color: white;}#sk-container-id-1 label.sk-toggleable__label {cursor: pointer;display: block;width: 100%;margin-bottom: 0;padding: 0.3em;box-sizing: border-box;text-align: center;}#sk-container-id-1 label.sk-toggleable__label-arrow:before {content: \"▸\";float: left;margin-right: 0.25em;color: #696969;}#sk-container-id-1 label.sk-toggleable__label-arrow:hover:before {color: black;}#sk-container-id-1 div.sk-estimator:hover label.sk-toggleable__label-arrow:before {color: black;}#sk-container-id-1 div.sk-toggleable__content {max-height: 0;max-width: 0;overflow: hidden;text-align: left;background-color: #f0f8ff;}#sk-container-id-1 div.sk-toggleable__content pre {margin: 0.2em;color: black;border-radius: 0.25em;background-color: #f0f8ff;}#sk-container-id-1 input.sk-toggleable__control:checked~div.sk-toggleable__content {max-height: 200px;max-width: 100%;overflow: auto;}#sk-container-id-1 input.sk-toggleable__control:checked~label.sk-toggleable__label-arrow:before {content: \"▾\";}#sk-container-id-1 div.sk-estimator input.sk-toggleable__control:checked~label.sk-toggleable__label {background-color: #d4ebff;}#sk-container-id-1 div.sk-label input.sk-toggleable__control:checked~label.sk-toggleable__label {background-color: #d4ebff;}#sk-container-id-1 input.sk-hidden--visually {border: 0;clip: rect(1px 1px 1px 1px);clip: rect(1px, 1px, 1px, 1px);height: 1px;margin: -1px;overflow: hidden;padding: 0;position: absolute;width: 1px;}#sk-container-id-1 div.sk-estimator {font-family: monospace;background-color: #f0f8ff;border: 1px dotted black;border-radius: 0.25em;box-sizing: border-box;margin-bottom: 0.5em;}#sk-container-id-1 div.sk-estimator:hover {background-color: #d4ebff;}#sk-container-id-1 div.sk-parallel-item::after {content: \"\";width: 100%;border-bottom: 1px solid gray;flex-grow: 1;}#sk-container-id-1 div.sk-label:hover label.sk-toggleable__label {background-color: #d4ebff;}#sk-container-id-1 div.sk-serial::before {content: \"\";position: absolute;border-left: 1px solid gray;box-sizing: border-box;top: 0;bottom: 0;left: 50%;z-index: 0;}#sk-container-id-1 div.sk-serial {display: flex;flex-direction: column;align-items: center;background-color: white;padding-right: 0.2em;padding-left: 0.2em;position: relative;}#sk-container-id-1 div.sk-item {position: relative;z-index: 1;}#sk-container-id-1 div.sk-parallel {display: flex;align-items: stretch;justify-content: center;background-color: white;position: relative;}#sk-container-id-1 div.sk-item::before, #sk-container-id-1 div.sk-parallel-item::before {content: \"\";position: absolute;border-left: 1px solid gray;box-sizing: border-box;top: 0;bottom: 0;left: 50%;z-index: -1;}#sk-container-id-1 div.sk-parallel-item {display: flex;flex-direction: column;z-index: 1;position: relative;background-color: white;}#sk-container-id-1 div.sk-parallel-item:first-child::after {align-self: flex-end;width: 50%;}#sk-container-id-1 div.sk-parallel-item:last-child::after {align-self: flex-start;width: 50%;}#sk-container-id-1 div.sk-parallel-item:only-child::after {width: 0;}#sk-container-id-1 div.sk-dashed-wrapped {border: 1px dashed gray;margin: 0 0.4em 0.5em 0.4em;box-sizing: border-box;padding-bottom: 0.4em;background-color: white;}#sk-container-id-1 div.sk-label label {font-family: monospace;font-weight: bold;display: inline-block;line-height: 1.2em;}#sk-container-id-1 div.sk-label-container {text-align: center;}#sk-container-id-1 div.sk-container {/* jupyter's `normalize.less` sets `[hidden] { display: none; }` but bootstrap.min.css set `[hidden] { display: none !important; }` so we also need the `!important` here to be able to override the default hidden behavior on the sphinx rendered scikit-learn.org. See: https://github.com/scikit-learn/scikit-learn/issues/21755 */display: inline-block !important;position: relative;}#sk-container-id-1 div.sk-text-repr-fallback {display: none;}</style><div id=\"sk-container-id-1\" class=\"sk-top-container\"><div class=\"sk-text-repr-fallback\"><pre>Pipeline(steps=[(&#x27;col_drop&#x27;,\n",
       "                 custom_col_drop(drop_list=[&#x27;isic_id&#x27;, &#x27;patient_id&#x27;,\n",
       "                                            &#x27;attribution&#x27;],\n",
       "                                 select_list=[&#x27;isic_id&#x27;, &#x27;patient_id&#x27;,\n",
       "                                              &#x27;age_approx&#x27;, &#x27;sex&#x27;,\n",
       "                                              &#x27;anatom_site_general&#x27;,\n",
       "                                              &#x27;clin_size_long_diam_mm&#x27;,\n",
       "                                              &#x27;image_type&#x27;, &#x27;tbp_tile_type&#x27;,\n",
       "                                              &#x27;tbp_lv_A&#x27;, &#x27;tbp_lv_Aext&#x27;,\n",
       "                                              &#x27;tbp_lv_B&#x27;, &#x27;tbp_lv_Bext&#x27;,\n",
       "                                              &#x27;tbp_lv_C&#x27;, &#x27;tbp_lv_Cext&#x27;,\n",
       "                                              &#x27;tbp_lv_H&#x27;, &#x27;tbp_lv_Hext&#x27;,\n",
       "                                              &#x27;tbp_lv_L&#x27;, &#x27;tbp_lv_Lext&#x27;,\n",
       "                                              &#x27;...\n",
       "                                                             interaction_constraints=None,\n",
       "                                                             lambda=8.879624125465703,\n",
       "                                                             learning_rate=0.08501257473292347,\n",
       "                                                             max_bin=None,\n",
       "                                                             max_cat_threshold=None,\n",
       "                                                             max_cat_to_onehot=None,\n",
       "                                                             max_delta_step=None,\n",
       "                                                             max_depth=6,\n",
       "                                                             max_leaves=None,\n",
       "                                                             min_child_weight=None,\n",
       "                                                             missing=nan,\n",
       "                                                             monotone_constraints=None,\n",
       "                                                             multi_strategy=None,\n",
       "                                                             n_estimators=None,\n",
       "                                                             n_jobs=None, ...))],\n",
       "                                  voting=&#x27;soft&#x27;, weights=[0.47, 0.4, 0.28]))])</pre><b>In a Jupyter environment, please rerun this cell to show the HTML representation or trust the notebook. <br />On GitHub, the HTML representation is unable to render, please try loading this page with nbviewer.org.</b></div><div class=\"sk-container\" hidden><div class=\"sk-item sk-dashed-wrapped\"><div class=\"sk-label-container\"><div class=\"sk-label sk-toggleable\"><input class=\"sk-toggleable__control sk-hidden--visually\" id=\"sk-estimator-id-1\" type=\"checkbox\" ><label for=\"sk-estimator-id-1\" class=\"sk-toggleable__label sk-toggleable__label-arrow\">Pipeline</label><div class=\"sk-toggleable__content\"><pre>Pipeline(steps=[(&#x27;col_drop&#x27;,\n",
       "                 custom_col_drop(drop_list=[&#x27;isic_id&#x27;, &#x27;patient_id&#x27;,\n",
       "                                            &#x27;attribution&#x27;],\n",
       "                                 select_list=[&#x27;isic_id&#x27;, &#x27;patient_id&#x27;,\n",
       "                                              &#x27;age_approx&#x27;, &#x27;sex&#x27;,\n",
       "                                              &#x27;anatom_site_general&#x27;,\n",
       "                                              &#x27;clin_size_long_diam_mm&#x27;,\n",
       "                                              &#x27;image_type&#x27;, &#x27;tbp_tile_type&#x27;,\n",
       "                                              &#x27;tbp_lv_A&#x27;, &#x27;tbp_lv_Aext&#x27;,\n",
       "                                              &#x27;tbp_lv_B&#x27;, &#x27;tbp_lv_Bext&#x27;,\n",
       "                                              &#x27;tbp_lv_C&#x27;, &#x27;tbp_lv_Cext&#x27;,\n",
       "                                              &#x27;tbp_lv_H&#x27;, &#x27;tbp_lv_Hext&#x27;,\n",
       "                                              &#x27;tbp_lv_L&#x27;, &#x27;tbp_lv_Lext&#x27;,\n",
       "                                              &#x27;...\n",
       "                                                             interaction_constraints=None,\n",
       "                                                             lambda=8.879624125465703,\n",
       "                                                             learning_rate=0.08501257473292347,\n",
       "                                                             max_bin=None,\n",
       "                                                             max_cat_threshold=None,\n",
       "                                                             max_cat_to_onehot=None,\n",
       "                                                             max_delta_step=None,\n",
       "                                                             max_depth=6,\n",
       "                                                             max_leaves=None,\n",
       "                                                             min_child_weight=None,\n",
       "                                                             missing=nan,\n",
       "                                                             monotone_constraints=None,\n",
       "                                                             multi_strategy=None,\n",
       "                                                             n_estimators=None,\n",
       "                                                             n_jobs=None, ...))],\n",
       "                                  voting=&#x27;soft&#x27;, weights=[0.47, 0.4, 0.28]))])</pre></div></div></div><div class=\"sk-serial\"><div class=\"sk-item\"><div class=\"sk-estimator sk-toggleable\"><input class=\"sk-toggleable__control sk-hidden--visually\" id=\"sk-estimator-id-2\" type=\"checkbox\" ><label for=\"sk-estimator-id-2\" class=\"sk-toggleable__label sk-toggleable__label-arrow\">custom_col_drop</label><div class=\"sk-toggleable__content\"><pre>custom_col_drop(drop_list=[&#x27;isic_id&#x27;, &#x27;patient_id&#x27;, &#x27;attribution&#x27;],\n",
       "                select_list=[&#x27;isic_id&#x27;, &#x27;patient_id&#x27;, &#x27;age_approx&#x27;, &#x27;sex&#x27;,\n",
       "                             &#x27;anatom_site_general&#x27;, &#x27;clin_size_long_diam_mm&#x27;,\n",
       "                             &#x27;image_type&#x27;, &#x27;tbp_tile_type&#x27;, &#x27;tbp_lv_A&#x27;,\n",
       "                             &#x27;tbp_lv_Aext&#x27;, &#x27;tbp_lv_B&#x27;, &#x27;tbp_lv_Bext&#x27;,\n",
       "                             &#x27;tbp_lv_C&#x27;, &#x27;tbp_lv_Cext&#x27;, &#x27;tbp_lv_H&#x27;,\n",
       "                             &#x27;tbp_lv_Hext&#x27;, &#x27;tbp_lv_L&#x27;, &#x27;tbp_lv_Lext&#x27;,\n",
       "                             &#x27;tbp_lv_areaMM2&#x27;, &#x27;tbp_lv_area_perim_ratio&#x27;,\n",
       "                             &#x27;tbp_lv_color_std_mean&#x27;, &#x27;tbp_lv_deltaA&#x27;,\n",
       "                             &#x27;tbp_lv_deltaB&#x27;, &#x27;tbp_lv_deltaL&#x27;, &#x27;tbp_lv_deltaLB&#x27;,\n",
       "                             &#x27;tbp_lv_deltaLBnorm&#x27;, &#x27;tbp_lv_eccentricity&#x27;,\n",
       "                             &#x27;tbp_lv_location&#x27;, &#x27;tbp_lv_location_simple&#x27;,\n",
       "                             &#x27;tbp_lv_minorAxisMM&#x27;, ...])</pre></div></div></div><div class=\"sk-item sk-dashed-wrapped\"><div class=\"sk-label-container\"><div class=\"sk-label sk-toggleable\"><input class=\"sk-toggleable__control sk-hidden--visually\" id=\"sk-estimator-id-3\" type=\"checkbox\" ><label for=\"sk-estimator-id-3\" class=\"sk-toggleable__label sk-toggleable__label-arrow\">col_trans: ColumnTransformer</label><div class=\"sk-toggleable__content\"><pre>ColumnTransformer(transformers=[(&#x27;numerical_col&#x27;,\n",
       "                                 Pipeline(steps=[(&#x27;standard_scale&#x27;,\n",
       "                                                  StandardScaler()),\n",
       "                                                 (&#x27;impute&#x27;,\n",
       "                                                  SimpleImputer(strategy=&#x27;most_frequent&#x27;))]),\n",
       "                                 &lt;sklearn.compose._column_transformer.make_column_selector object at 0x7d2abcc2c310&gt;),\n",
       "                                (&#x27;cat_col_ord&#x27;, OrdinalEncoder(),\n",
       "                                 &lt;sklearn.compose._column_transformer.make_column_selector object at 0x7d2abcc2dbd0&gt;)])</pre></div></div></div><div class=\"sk-parallel\"><div class=\"sk-parallel-item\"><div class=\"sk-item\"><div class=\"sk-label-container\"><div class=\"sk-label sk-toggleable\"><input class=\"sk-toggleable__control sk-hidden--visually\" id=\"sk-estimator-id-4\" type=\"checkbox\" ><label for=\"sk-estimator-id-4\" class=\"sk-toggleable__label sk-toggleable__label-arrow\">numerical_col</label><div class=\"sk-toggleable__content\"><pre>&lt;sklearn.compose._column_transformer.make_column_selector object at 0x7d2abcc2c310&gt;</pre></div></div></div><div class=\"sk-serial\"><div class=\"sk-item\"><div class=\"sk-serial\"><div class=\"sk-item\"><div class=\"sk-estimator sk-toggleable\"><input class=\"sk-toggleable__control sk-hidden--visually\" id=\"sk-estimator-id-5\" type=\"checkbox\" ><label for=\"sk-estimator-id-5\" class=\"sk-toggleable__label sk-toggleable__label-arrow\">StandardScaler</label><div class=\"sk-toggleable__content\"><pre>StandardScaler()</pre></div></div></div><div class=\"sk-item\"><div class=\"sk-estimator sk-toggleable\"><input class=\"sk-toggleable__control sk-hidden--visually\" id=\"sk-estimator-id-6\" type=\"checkbox\" ><label for=\"sk-estimator-id-6\" class=\"sk-toggleable__label sk-toggleable__label-arrow\">SimpleImputer</label><div class=\"sk-toggleable__content\"><pre>SimpleImputer(strategy=&#x27;most_frequent&#x27;)</pre></div></div></div></div></div></div></div></div><div class=\"sk-parallel-item\"><div class=\"sk-item\"><div class=\"sk-label-container\"><div class=\"sk-label sk-toggleable\"><input class=\"sk-toggleable__control sk-hidden--visually\" id=\"sk-estimator-id-7\" type=\"checkbox\" ><label for=\"sk-estimator-id-7\" class=\"sk-toggleable__label sk-toggleable__label-arrow\">cat_col_ord</label><div class=\"sk-toggleable__content\"><pre>&lt;sklearn.compose._column_transformer.make_column_selector object at 0x7d2abcc2dbd0&gt;</pre></div></div></div><div class=\"sk-serial\"><div class=\"sk-item\"><div class=\"sk-estimator sk-toggleable\"><input class=\"sk-toggleable__control sk-hidden--visually\" id=\"sk-estimator-id-8\" type=\"checkbox\" ><label for=\"sk-estimator-id-8\" class=\"sk-toggleable__label sk-toggleable__label-arrow\">OrdinalEncoder</label><div class=\"sk-toggleable__content\"><pre>OrdinalEncoder()</pre></div></div></div></div></div></div></div></div><div class=\"sk-item\"><div class=\"sk-estimator sk-toggleable\"><input class=\"sk-toggleable__control sk-hidden--visually\" id=\"sk-estimator-id-9\" type=\"checkbox\" ><label for=\"sk-estimator-id-9\" class=\"sk-toggleable__label sk-toggleable__label-arrow\">SimpleImputer</label><div class=\"sk-toggleable__content\"><pre>SimpleImputer(strategy=&#x27;most_frequent&#x27;)</pre></div></div></div><div class=\"sk-item sk-dashed-wrapped\"><div class=\"sk-label-container\"><div class=\"sk-label sk-toggleable\"><input class=\"sk-toggleable__control sk-hidden--visually\" id=\"sk-estimator-id-10\" type=\"checkbox\" ><label for=\"sk-estimator-id-10\" class=\"sk-toggleable__label sk-toggleable__label-arrow\">feature_union: FeatureUnion</label><div class=\"sk-toggleable__content\"><pre>FeatureUnion(transformer_list=[(&#x27;original_features&#x27;,\n",
       "                                FunctionTransformer(feature_names_out=&#x27;one-to-one&#x27;)),\n",
       "                               (&#x27;pca&#x27;,\n",
       "                                Pipeline(steps=[(&#x27;pca_transform&#x27;,\n",
       "                                                 PCA(n_components=10,\n",
       "                                                     random_state=42))])),\n",
       "                               (&#x27;kmeans&#x27;,\n",
       "                                Pipeline(steps=[(&#x27;kmeans_transform&#x27;,\n",
       "                                                 KMeans(n_clusters=30,\n",
       "                                                        random_state=42)),\n",
       "                                                (&#x27;kmeans_labels&#x27;,\n",
       "                                                 &#x27;passthrough&#x27;)]))])</pre></div></div></div><div class=\"sk-parallel\"><div class=\"sk-parallel-item\"><div class=\"sk-item\"><div class=\"sk-label-container\"><div class=\"sk-label sk-toggleable\"><label>original_features</label></div></div><div class=\"sk-serial\"><div class=\"sk-item\"><div class=\"sk-estimator sk-toggleable\"><input class=\"sk-toggleable__control sk-hidden--visually\" id=\"sk-estimator-id-11\" type=\"checkbox\" ><label for=\"sk-estimator-id-11\" class=\"sk-toggleable__label sk-toggleable__label-arrow\">FunctionTransformer</label><div class=\"sk-toggleable__content\"><pre>FunctionTransformer(feature_names_out=&#x27;one-to-one&#x27;)</pre></div></div></div></div></div></div><div class=\"sk-parallel-item\"><div class=\"sk-item\"><div class=\"sk-label-container\"><div class=\"sk-label sk-toggleable\"><label>pca</label></div></div><div class=\"sk-serial\"><div class=\"sk-item\"><div class=\"sk-serial\"><div class=\"sk-item\"><div class=\"sk-estimator sk-toggleable\"><input class=\"sk-toggleable__control sk-hidden--visually\" id=\"sk-estimator-id-12\" type=\"checkbox\" ><label for=\"sk-estimator-id-12\" class=\"sk-toggleable__label sk-toggleable__label-arrow\">PCA</label><div class=\"sk-toggleable__content\"><pre>PCA(n_components=10, random_state=42)</pre></div></div></div></div></div></div></div></div><div class=\"sk-parallel-item\"><div class=\"sk-item\"><div class=\"sk-label-container\"><div class=\"sk-label sk-toggleable\"><label>kmeans</label></div></div><div class=\"sk-serial\"><div class=\"sk-item\"><div class=\"sk-serial\"><div class=\"sk-item\"><div class=\"sk-estimator sk-toggleable\"><input class=\"sk-toggleable__control sk-hidden--visually\" id=\"sk-estimator-id-13\" type=\"checkbox\" ><label for=\"sk-estimator-id-13\" class=\"sk-toggleable__label sk-toggleable__label-arrow\">KMeans</label><div class=\"sk-toggleable__content\"><pre>KMeans(n_clusters=30, random_state=42)</pre></div></div></div><div class=\"sk-item\"><div class=\"sk-estimator sk-toggleable\"><input class=\"sk-toggleable__control sk-hidden--visually\" id=\"sk-estimator-id-14\" type=\"checkbox\" ><label for=\"sk-estimator-id-14\" class=\"sk-toggleable__label sk-toggleable__label-arrow\">passthrough</label><div class=\"sk-toggleable__content\"><pre>passthrough</pre></div></div></div></div></div></div></div></div></div></div><div class=\"sk-item\"><div class=\"sk-estimator sk-toggleable\"><input class=\"sk-toggleable__control sk-hidden--visually\" id=\"sk-estimator-id-15\" type=\"checkbox\" ><label for=\"sk-estimator-id-15\" class=\"sk-toggleable__label sk-toggleable__label-arrow\">RandomOverSampler</label><div class=\"sk-toggleable__content\"><pre>RandomOverSampler(random_state=42, sampling_strategy=0.003)</pre></div></div></div><div class=\"sk-item\"><div class=\"sk-estimator sk-toggleable\"><input class=\"sk-toggleable__control sk-hidden--visually\" id=\"sk-estimator-id-16\" type=\"checkbox\" ><label for=\"sk-estimator-id-16\" class=\"sk-toggleable__label sk-toggleable__label-arrow\">RandomUnderSampler</label><div class=\"sk-toggleable__content\"><pre>RandomUnderSampler(random_state=42, sampling_strategy=0.01)</pre></div></div></div><div class=\"sk-item sk-dashed-wrapped\"><div class=\"sk-label-container\"><div class=\"sk-label sk-toggleable\"><input class=\"sk-toggleable__control sk-hidden--visually\" id=\"sk-estimator-id-17\" type=\"checkbox\" ><label for=\"sk-estimator-id-17\" class=\"sk-toggleable__label sk-toggleable__label-arrow\">voting: VotingClassifier</label><div class=\"sk-toggleable__content\"><pre>VotingClassifier(estimators=[(&#x27;catboost&#x27;,\n",
       "                              &lt;catboost.core.CatBoostClassifier object at 0x7d2abcc2eb60&gt;),\n",
       "                             (&#x27;lgbm&#x27;,\n",
       "                              LGBMClassifier(bagging_fraction=0.7738954452473223,\n",
       "                                             bagging_freq=4,\n",
       "                                             colsample_bynode=0.4025961355653304,\n",
       "                                             colsample_bytree=0.8329551585827726,\n",
       "                                             lambda_l1=0.08758718919397321,\n",
       "                                             lambda_l2=0.0039689175176025465,\n",
       "                                             learning_rate=0.03231007103195577,\n",
       "                                             max_depth...\n",
       "                                            interaction_constraints=None,\n",
       "                                            lambda=8.879624125465703,\n",
       "                                            learning_rate=0.08501257473292347,\n",
       "                                            max_bin=None,\n",
       "                                            max_cat_threshold=None,\n",
       "                                            max_cat_to_onehot=None,\n",
       "                                            max_delta_step=None, max_depth=6,\n",
       "                                            max_leaves=None,\n",
       "                                            min_child_weight=None, missing=nan,\n",
       "                                            monotone_constraints=None,\n",
       "                                            multi_strategy=None,\n",
       "                                            n_estimators=None, n_jobs=None, ...))],\n",
       "                 voting=&#x27;soft&#x27;, weights=[0.47, 0.4, 0.28])</pre></div></div></div><div class=\"sk-parallel\"><div class=\"sk-parallel-item\"><div class=\"sk-item\"><div class=\"sk-label-container\"><div class=\"sk-label sk-toggleable\"><label>catboost</label></div></div><div class=\"sk-serial\"><div class=\"sk-item\"><div class=\"sk-estimator sk-toggleable\"><input class=\"sk-toggleable__control sk-hidden--visually\" id=\"sk-estimator-id-18\" type=\"checkbox\" ><label for=\"sk-estimator-id-18\" class=\"sk-toggleable__label sk-toggleable__label-arrow\">CatBoostClassifier</label><div class=\"sk-toggleable__content\"><pre>&lt;catboost.core.CatBoostClassifier object at 0x7d2abcc2eb60&gt;</pre></div></div></div></div></div></div><div class=\"sk-parallel-item\"><div class=\"sk-item\"><div class=\"sk-label-container\"><div class=\"sk-label sk-toggleable\"><label>lgbm</label></div></div><div class=\"sk-serial\"><div class=\"sk-item\"><div class=\"sk-estimator sk-toggleable\"><input class=\"sk-toggleable__control sk-hidden--visually\" id=\"sk-estimator-id-19\" type=\"checkbox\" ><label for=\"sk-estimator-id-19\" class=\"sk-toggleable__label sk-toggleable__label-arrow\">LGBMClassifier</label><div class=\"sk-toggleable__content\"><pre>LGBMClassifier(bagging_fraction=0.7738954452473223, bagging_freq=4,\n",
       "               colsample_bynode=0.4025961355653304,\n",
       "               colsample_bytree=0.8329551585827726,\n",
       "               lambda_l1=0.08758718919397321, lambda_l2=0.0039689175176025465,\n",
       "               learning_rate=0.03231007103195577, max_depth=4,\n",
       "               min_data_in_leaf=85, n_iter=200, num_leaves=103,\n",
       "               objective=&#x27;binary&#x27;, random_state=42,\n",
       "               scale_pos_weight=2.7984184778875543, verbosity=-1)</pre></div></div></div></div></div></div><div class=\"sk-parallel-item\"><div class=\"sk-item\"><div class=\"sk-label-container\"><div class=\"sk-label sk-toggleable\"><label>xgb</label></div></div><div class=\"sk-serial\"><div class=\"sk-item\"><div class=\"sk-estimator sk-toggleable\"><input class=\"sk-toggleable__control sk-hidden--visually\" id=\"sk-estimator-id-20\" type=\"checkbox\" ><label for=\"sk-estimator-id-20\" class=\"sk-toggleable__label sk-toggleable__label-arrow\">XGBClassifier</label><div class=\"sk-toggleable__content\"><pre>XGBClassifier(alpha=0.6779926606782505, base_score=None, booster=None,\n",
       "              callbacks=None, colsample_bylevel=0.5476090898823716,\n",
       "              colsample_bynode=0.9928601203635129,\n",
       "              colsample_bytree=0.8437772277074493, device=None,\n",
       "              early_stopping_rounds=None, enable_categorical=False,\n",
       "              eval_metric=None, feature_types=None, gamma=None,\n",
       "              grow_policy=None, importance_type=None,\n",
       "              interaction_constraints=None, lambda=8.879624125465703,\n",
       "              learning_rate=0.08501257473292347, max_bin=None,\n",
       "              max_cat_threshold=None, max_cat_to_onehot=None,\n",
       "              max_delta_step=None, max_depth=6, max_leaves=None,\n",
       "              min_child_weight=None, missing=nan, monotone_constraints=None,\n",
       "              multi_strategy=None, n_estimators=None, n_jobs=None, ...)</pre></div></div></div></div></div></div></div></div></div></div></div></div>"
      ],
      "text/plain": [
       "Pipeline(steps=[('col_drop',\n",
       "                 custom_col_drop(drop_list=['isic_id', 'patient_id',\n",
       "                                            'attribution'],\n",
       "                                 select_list=['isic_id', 'patient_id',\n",
       "                                              'age_approx', 'sex',\n",
       "                                              'anatom_site_general',\n",
       "                                              'clin_size_long_diam_mm',\n",
       "                                              'image_type', 'tbp_tile_type',\n",
       "                                              'tbp_lv_A', 'tbp_lv_Aext',\n",
       "                                              'tbp_lv_B', 'tbp_lv_Bext',\n",
       "                                              'tbp_lv_C', 'tbp_lv_Cext',\n",
       "                                              'tbp_lv_H', 'tbp_lv_Hext',\n",
       "                                              'tbp_lv_L', 'tbp_lv_Lext',\n",
       "                                              '...\n",
       "                                                             interaction_constraints=None,\n",
       "                                                             lambda=8.879624125465703,\n",
       "                                                             learning_rate=0.08501257473292347,\n",
       "                                                             max_bin=None,\n",
       "                                                             max_cat_threshold=None,\n",
       "                                                             max_cat_to_onehot=None,\n",
       "                                                             max_delta_step=None,\n",
       "                                                             max_depth=6,\n",
       "                                                             max_leaves=None,\n",
       "                                                             min_child_weight=None,\n",
       "                                                             missing=nan,\n",
       "                                                             monotone_constraints=None,\n",
       "                                                             multi_strategy=None,\n",
       "                                                             n_estimators=None,\n",
       "                                                             n_jobs=None, ...))],\n",
       "                                  voting='soft', weights=[0.47, 0.4, 0.28]))])"
      ]
     },
     "execution_count": 13,
     "metadata": {},
     "output_type": "execute_result"
    }
   ],
   "source": [
    "model.fit(X,y)"
   ]
  },
  {
   "cell_type": "code",
   "execution_count": 14,
   "id": "bf62929b",
   "metadata": {
    "execution": {
     "iopub.execute_input": "2024-09-03T06:14:10.280799Z",
     "iopub.status.busy": "2024-09-03T06:14:10.280402Z",
     "iopub.status.idle": "2024-09-03T06:14:10.284406Z",
     "shell.execute_reply": "2024-09-03T06:14:10.283509Z"
    },
    "papermill": {
     "duration": 0.012843,
     "end_time": "2024-09-03T06:14:10.286538",
     "exception": false,
     "start_time": "2024-09-03T06:14:10.273695",
     "status": "completed"
    },
    "tags": []
   },
   "outputs": [],
   "source": [
    "# custom_metric(model,X_valid,y_valid)"
   ]
  },
  {
   "cell_type": "code",
   "execution_count": 15,
   "id": "ace829b5",
   "metadata": {
    "execution": {
     "iopub.execute_input": "2024-09-03T06:14:10.299392Z",
     "iopub.status.busy": "2024-09-03T06:14:10.299108Z",
     "iopub.status.idle": "2024-09-03T06:14:10.360387Z",
     "shell.execute_reply": "2024-09-03T06:14:10.359419Z"
    },
    "papermill": {
     "duration": 0.070422,
     "end_time": "2024-09-03T06:14:10.362810",
     "exception": false,
     "start_time": "2024-09-03T06:14:10.292388",
     "status": "completed"
    },
    "tags": []
   },
   "outputs": [],
   "source": [
    "pred=model.predict_proba(test)[:,1]"
   ]
  },
  {
   "cell_type": "code",
   "execution_count": 16,
   "id": "2590f785",
   "metadata": {
    "execution": {
     "iopub.execute_input": "2024-09-03T06:14:10.377951Z",
     "iopub.status.busy": "2024-09-03T06:14:10.377538Z",
     "iopub.status.idle": "2024-09-03T06:14:10.382949Z",
     "shell.execute_reply": "2024-09-03T06:14:10.382043Z"
    },
    "papermill": {
     "duration": 0.014802,
     "end_time": "2024-09-03T06:14:10.384965",
     "exception": false,
     "start_time": "2024-09-03T06:14:10.370163",
     "status": "completed"
    },
    "tags": []
   },
   "outputs": [],
   "source": [
    "sub=test[['isic_id']]"
   ]
  },
  {
   "cell_type": "code",
   "execution_count": 17,
   "id": "b071a34e",
   "metadata": {
    "execution": {
     "iopub.execute_input": "2024-09-03T06:14:10.399495Z",
     "iopub.status.busy": "2024-09-03T06:14:10.398588Z",
     "iopub.status.idle": "2024-09-03T06:14:10.404434Z",
     "shell.execute_reply": "2024-09-03T06:14:10.403533Z"
    },
    "papermill": {
     "duration": 0.015589,
     "end_time": "2024-09-03T06:14:10.406901",
     "exception": false,
     "start_time": "2024-09-03T06:14:10.391312",
     "status": "completed"
    },
    "tags": []
   },
   "outputs": [],
   "source": [
    "sub['target']=pred"
   ]
  },
  {
   "cell_type": "code",
   "execution_count": 18,
   "id": "50eef568",
   "metadata": {
    "execution": {
     "iopub.execute_input": "2024-09-03T06:14:10.423211Z",
     "iopub.status.busy": "2024-09-03T06:14:10.422923Z",
     "iopub.status.idle": "2024-09-03T06:14:10.429362Z",
     "shell.execute_reply": "2024-09-03T06:14:10.428632Z"
    },
    "papermill": {
     "duration": 0.017084,
     "end_time": "2024-09-03T06:14:10.431575",
     "exception": false,
     "start_time": "2024-09-03T06:14:10.414491",
     "status": "completed"
    },
    "tags": []
   },
   "outputs": [],
   "source": [
    "sub.to_csv('submission.csv',index=False)"
   ]
  }
 ],
 "metadata": {
  "kaggle": {
   "accelerator": "gpu",
   "dataSources": [
    {
     "databundleVersionId": 9094797,
     "sourceId": 63056,
     "sourceType": "competition"
    }
   ],
   "dockerImageVersionId": 30762,
   "isGpuEnabled": true,
   "isInternetEnabled": false,
   "language": "python",
   "sourceType": "notebook"
  },
  "kernelspec": {
   "display_name": "Python 3",
   "language": "python",
   "name": "python3"
  },
  "language_info": {
   "codemirror_mode": {
    "name": "ipython",
    "version": 3
   },
   "file_extension": ".py",
   "mimetype": "text/x-python",
   "name": "python",
   "nbconvert_exporter": "python",
   "pygments_lexer": "ipython3",
   "version": "3.10.14"
  },
  "papermill": {
   "default_parameters": {},
   "duration": 117.32155,
   "end_time": "2024-09-03T06:14:11.259353",
   "environment_variables": {},
   "exception": null,
   "input_path": "__notebook__.ipynb",
   "output_path": "__notebook__.ipynb",
   "parameters": {},
   "start_time": "2024-09-03T06:12:13.937803",
   "version": "2.6.0"
  }
 },
 "nbformat": 4,
 "nbformat_minor": 5
}
